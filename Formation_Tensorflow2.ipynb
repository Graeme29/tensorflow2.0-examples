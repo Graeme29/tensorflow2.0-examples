{
  "nbformat": 4,
  "nbformat_minor": 0,
  "metadata": {
    "colab": {
      "name": "Formation Tensorflow2.ipynb",
      "provenance": [],
      "authorship_tag": "ABX9TyPD7MnE2TSeNTQ34dXzkpgu",
      "include_colab_link": true
    },
    "kernelspec": {
      "name": "python3",
      "display_name": "Python 3"
    }
  },
  "cells": [
    {
      "cell_type": "markdown",
      "metadata": {
        "id": "view-in-github",
        "colab_type": "text"
      },
      "source": [
        "<a href=\"https://colab.research.google.com/github/Graeme29/tensorflow2.0-examples/blob/master/Formation_Tensorflow2.ipynb\" target=\"_parent\"><img src=\"https://colab.research.google.com/assets/colab-badge.svg\" alt=\"Open In Colab\"/></a>"
      ]
    },
    {
      "cell_type": "markdown",
      "metadata": {
        "id": "9ui3rUYuPKxw"
      },
      "source": [
        "Pour un perceptron, les poids des synapses reliés aux zones importantes sont élevés (positif) et ceux reliés aux zones moins importantes sont faibles (négatif)"
      ]
    },
    {
      "cell_type": "markdown",
      "metadata": {
        "id": "yhkmtWbzQxOf"
      },
      "source": [
        "Pour un perceptron non entrainé, un exemple :\r\n",
        "E = |0.1-1| = 0.9\r\n",
        "\r\n",
        "---\r\n",
        "\r\n",
        "\r\n",
        "Ce n'est pas bon, 0.1 étant la valeur de sortie et 1 la valeur attendue"
      ]
    },
    {
      "cell_type": "markdown",
      "metadata": {
        "id": "y_7QUjHtQ4ay"
      },
      "source": [
        "Descente de gradient : \r\n",
        "On va changer les poids"
      ]
    },
    {
      "cell_type": "markdown",
      "metadata": {
        "id": "XVkSJ7DYR37A"
      },
      "source": [
        "On calcule la gradient de l'erreur par rapport à la sortie afin de savoir comment modifier les poids pour réduire l'erreur (augmenter pour les zones importantes et diminuer pour les zones non importantes)"
      ]
    },
    {
      "cell_type": "markdown",
      "metadata": {
        "id": "MTeST4LjWRJn"
      },
      "source": [
        "Dans un réseau de neurones, on peut avoir des poids élevé dabord et les ajuster par la suite après la 1ère couche d'entree"
      ]
    },
    {
      "cell_type": "markdown",
      "metadata": {
        "id": "5fDBJw1mWUft"
      },
      "source": [
        "Plus on a de neurone sur les 1ères couches, plus on peut traiter d'informations et détecter des paternes"
      ]
    },
    {
      "cell_type": "markdown",
      "metadata": {
        "id": "q4hSMfaFmdAF"
      },
      "source": [
        "# **Import**"
      ]
    },
    {
      "cell_type": "code",
      "metadata": {
        "id": "GjPJzatwbshN"
      },
      "source": [
        "#matplotlib\r\n",
        "import matplotlib.pyplot as plt\r\n",
        "#tensorflow\r\n",
        "import tensorflow as tf\r\n",
        "#numpy and pandas\r\n",
        "import numpy as np\r\n",
        "import pandas as pd\r\n",
        "#other import \r\n",
        "import sys\r\n",
        "\r\n",
        "from tensorflow import keras #pour simplifier le code\r\n",
        "from tensorflow.keras import layers, models\r\n",
        "from tensorflow.keras.layers import Dense, Flatten, Conv2D"
      ],
      "execution_count": 1,
      "outputs": []
    },
    {
      "cell_type": "markdown",
      "metadata": {
        "id": "YzpJuevCmqoh"
      },
      "source": [
        "# **Be sur to use Tensorflow 2.0**"
      ]
    },
    {
      "cell_type": "code",
      "metadata": {
        "id": "Rgfw6Sl_cfbw"
      },
      "source": [
        "assert hasattr(tf,\"function\") #be sure to use tensorflow"
      ],
      "execution_count": 2,
      "outputs": []
    },
    {
      "cell_type": "markdown",
      "metadata": {
        "id": "JUJWhphkm01e"
      },
      "source": [
        "# **Load the dataset : Fashion MNIST**"
      ]
    },
    {
      "cell_type": "code",
      "metadata": {
        "colab": {
          "base_uri": "https://localhost:8080/"
        },
        "id": "MTAeit5Zd-We",
        "outputId": "16fd3d2b-7abe-414f-ae2f-b1fd83874954"
      },
      "source": [
        "#Fashion MNIST\r\n",
        "fashion_mnist = keras.datasets.fashion_mnist #on importe la dataset\r\n",
        "(images, targets), (_, _) = fashion_mnist.load_data() #on ne s'intéresse qu'aux images et aux targets ici\r\n",
        "\r\n",
        "#get only a subpart of the dataset\r\n",
        "#get only a subpart\r\n",
        "images = images[:10000]\r\n",
        "targets = targets[:10000]\r\n",
        "\r\n",
        "print(images.shape)\r\n",
        "print(targets.shape)\r\n",
        "\r\n",
        "print(images[0])"
      ],
      "execution_count": 3,
      "outputs": [
        {
          "output_type": "stream",
          "text": [
            "Downloading data from https://storage.googleapis.com/tensorflow/tf-keras-datasets/train-labels-idx1-ubyte.gz\n",
            "32768/29515 [=================================] - 0s 0us/step\n",
            "Downloading data from https://storage.googleapis.com/tensorflow/tf-keras-datasets/train-images-idx3-ubyte.gz\n",
            "26427392/26421880 [==============================] - 0s 0us/step\n",
            "Downloading data from https://storage.googleapis.com/tensorflow/tf-keras-datasets/t10k-labels-idx1-ubyte.gz\n",
            "8192/5148 [===============================================] - 0s 0us/step\n",
            "Downloading data from https://storage.googleapis.com/tensorflow/tf-keras-datasets/t10k-images-idx3-ubyte.gz\n",
            "4423680/4422102 [==============================] - 0s 0us/step\n",
            "(10000, 28, 28)\n",
            "(10000,)\n",
            "[[  0   0   0   0   0   0   0   0   0   0   0   0   0   0   0   0   0   0\n",
            "    0   0   0   0   0   0   0   0   0   0]\n",
            " [  0   0   0   0   0   0   0   0   0   0   0   0   0   0   0   0   0   0\n",
            "    0   0   0   0   0   0   0   0   0   0]\n",
            " [  0   0   0   0   0   0   0   0   0   0   0   0   0   0   0   0   0   0\n",
            "    0   0   0   0   0   0   0   0   0   0]\n",
            " [  0   0   0   0   0   0   0   0   0   0   0   0   1   0   0  13  73   0\n",
            "    0   1   4   0   0   0   0   1   1   0]\n",
            " [  0   0   0   0   0   0   0   0   0   0   0   0   3   0  36 136 127  62\n",
            "   54   0   0   0   1   3   4   0   0   3]\n",
            " [  0   0   0   0   0   0   0   0   0   0   0   0   6   0 102 204 176 134\n",
            "  144 123  23   0   0   0   0  12  10   0]\n",
            " [  0   0   0   0   0   0   0   0   0   0   0   0   0   0 155 236 207 178\n",
            "  107 156 161 109  64  23  77 130  72  15]\n",
            " [  0   0   0   0   0   0   0   0   0   0   0   1   0  69 207 223 218 216\n",
            "  216 163 127 121 122 146 141  88 172  66]\n",
            " [  0   0   0   0   0   0   0   0   0   1   1   1   0 200 232 232 233 229\n",
            "  223 223 215 213 164 127 123 196 229   0]\n",
            " [  0   0   0   0   0   0   0   0   0   0   0   0   0 183 225 216 223 228\n",
            "  235 227 224 222 224 221 223 245 173   0]\n",
            " [  0   0   0   0   0   0   0   0   0   0   0   0   0 193 228 218 213 198\n",
            "  180 212 210 211 213 223 220 243 202   0]\n",
            " [  0   0   0   0   0   0   0   0   0   1   3   0  12 219 220 212 218 192\n",
            "  169 227 208 218 224 212 226 197 209  52]\n",
            " [  0   0   0   0   0   0   0   0   0   0   6   0  99 244 222 220 218 203\n",
            "  198 221 215 213 222 220 245 119 167  56]\n",
            " [  0   0   0   0   0   0   0   0   0   4   0   0  55 236 228 230 228 240\n",
            "  232 213 218 223 234 217 217 209  92   0]\n",
            " [  0   0   1   4   6   7   2   0   0   0   0   0 237 226 217 223 222 219\n",
            "  222 221 216 223 229 215 218 255  77   0]\n",
            " [  0   3   0   0   0   0   0   0   0  62 145 204 228 207 213 221 218 208\n",
            "  211 218 224 223 219 215 224 244 159   0]\n",
            " [  0   0   0   0  18  44  82 107 189 228 220 222 217 226 200 205 211 230\n",
            "  224 234 176 188 250 248 233 238 215   0]\n",
            " [  0  57 187 208 224 221 224 208 204 214 208 209 200 159 245 193 206 223\n",
            "  255 255 221 234 221 211 220 232 246   0]\n",
            " [  3 202 228 224 221 211 211 214 205 205 205 220 240  80 150 255 229 221\n",
            "  188 154 191 210 204 209 222 228 225   0]\n",
            " [ 98 233 198 210 222 229 229 234 249 220 194 215 217 241  65  73 106 117\n",
            "  168 219 221 215 217 223 223 224 229  29]\n",
            " [ 75 204 212 204 193 205 211 225 216 185 197 206 198 213 240 195 227 245\n",
            "  239 223 218 212 209 222 220 221 230  67]\n",
            " [ 48 203 183 194 213 197 185 190 194 192 202 214 219 221 220 236 225 216\n",
            "  199 206 186 181 177 172 181 205 206 115]\n",
            " [  0 122 219 193 179 171 183 196 204 210 213 207 211 210 200 196 194 191\n",
            "  195 191 198 192 176 156 167 177 210  92]\n",
            " [  0   0  74 189 212 191 175 172 175 181 185 188 189 188 193 198 204 209\n",
            "  210 210 211 188 188 194 192 216 170   0]\n",
            " [  2   0   0   0  66 200 222 237 239 242 246 243 244 221 220 193 191 179\n",
            "  182 182 181 176 166 168  99  58   0   0]\n",
            " [  0   0   0   0   0   0   0  40  61  44  72  41  35   0   0   0   0   0\n",
            "    0   0   0   0   0   0   0   0   0   0]\n",
            " [  0   0   0   0   0   0   0   0   0   0   0   0   0   0   0   0   0   0\n",
            "    0   0   0   0   0   0   0   0   0   0]\n",
            " [  0   0   0   0   0   0   0   0   0   0   0   0   0   0   0   0   0   0\n",
            "    0   0   0   0   0   0   0   0   0   0]]\n"
          ],
          "name": "stdout"
        }
      ]
    },
    {
      "cell_type": "code",
      "metadata": {
        "colab": {
          "base_uri": "https://localhost:8080/",
          "height": 513
        },
        "id": "9yKvGsA6k-u7",
        "outputId": "a4dd3ed3-9df7-4493-d532-dd0e2ac32a36"
      },
      "source": [
        "plt.imshow(images[0])\r\n",
        "plt.show()\r\n",
        "\r\n",
        "plt.imshow(images[0],cmap=\"binary\")\r\n",
        "plt.show()"
      ],
      "execution_count": 4,
      "outputs": [
        {
          "output_type": "display_data",
          "data": {
            "image/png": "[encoded data removed]",
            "text/plain": [
              "<Figure size 432x288 with 1 Axes>"
            ]
          },
          "metadata": {
            "tags": [],
            "needs_background": "light"
          }
        },
        {
          "output_type": "display_data",
          "data": {
            "image/png": "[encoded data removed]",
            "text/plain": [
              "<Figure size 432x288 with 1 Axes>"
            ]
          },
          "metadata": {
            "tags": [],
            "needs_background": "light"
          }
        }
      ]
    },
    {
      "cell_type": "markdown",
      "metadata": {
        "id": "43pjnfHfnAja"
      },
      "source": [
        "# **Plot one of the data**"
      ]
    },
    {
      "cell_type": "code",
      "metadata": {
        "colab": {
          "base_uri": "https://localhost:8080/",
          "height": 281
        },
        "id": "n2N5fCW7mXay",
        "outputId": "8348e4fa-9a47-44e1-e92e-75ee609c332a"
      },
      "source": [
        "targets_names = [\"T-shirt/top\", \"Trouser\", \"Pullover\", \"Dress\", \"Coat\", \"Sandal\", \r\n",
        "                 \"Shirt\", \"Sneaker\", \"Bag\", \"Ankle boot\"]\r\n",
        "# Plot one image\r\n",
        "plt.imshow(images[10], cmap=\"binary\")\r\n",
        "plt.title(targets_names[targets[10]])\r\n",
        "plt.show()"
      ],
      "execution_count": 5,
      "outputs": [
        {
          "output_type": "display_data",
          "data": {
            "image/png": "[encoded data removed]",
            "text/plain": [
              "<Figure size 432x288 with 1 Axes>"
            ]
          },
          "metadata": {
            "tags": [],
            "needs_background": "light"
          }
        }
      ]
    },
    {
      "cell_type": "code",
      "metadata": {
        "colab": {
          "base_uri": "https://localhost:8080/",
          "height": 281
        },
        "id": "K6D5V_gVnlVu",
        "outputId": "def79b5d-48a3-40a3-b7b6-57ec57252114"
      },
      "source": [
        "targets_names = [\"T-shirt/top\", \"Trouser\", \"Pullover\", \"Dress\", \"Coat\", \"Sandal\", \r\n",
        "                 \"Shirt\", \"Sneaker\", \"Bag\", \"Ankle boot\"]\r\n",
        "# Plot one image\r\n",
        "plt.imshow(images[11], cmap=\"binary\")\r\n",
        "plt.title(targets_names[targets[11]])\r\n",
        "plt.show()"
      ],
      "execution_count": 6,
      "outputs": [
        {
          "output_type": "display_data",
          "data": {
            "image/png": "[encoded data removed]",
            "text/plain": [
              "<Figure size 432x288 with 1 Axes>"
            ]
          },
          "metadata": {
            "tags": [],
            "needs_background": "light"
          }
        }
      ]
    },
    {
      "cell_type": "code",
      "metadata": {
        "colab": {
          "base_uri": "https://localhost:8080/"
        },
        "id": "74GufwQLocUA",
        "outputId": "5e0c7776-9a38-4d70-93c3-980dbf074add"
      },
      "source": [
        "print(\"First line of one image\", images[11][0])\r\n",
        "print(\"Associated target\", targets[11])\r\n",
        "#les valeurs correspondent aux niveaux de gris de chaque pixel de l'image"
      ],
      "execution_count": 7,
      "outputs": [
        {
          "output_type": "stream",
          "text": [
            "First line of one image [  0   0   0   0   0   0   0   0   0   0   0   0   0   0  39 111  93  85\n",
            "  27   0   0   0   0   0   1   0   0   0]\n",
            "Associated target 9\n"
          ],
          "name": "stdout"
        }
      ]
    },
    {
      "cell_type": "markdown",
      "metadata": {
        "id": "TW7xLHoLzDDw"
      },
      "source": [
        "# **Create the model**"
      ]
    },
    {
      "cell_type": "code",
      "metadata": {
        "id": "VmPSBj4_zCET"
      },
      "source": [
        ""
      ],
      "execution_count": null,
      "outputs": []
    },
    {
      "cell_type": "markdown",
      "metadata": {
        "id": "Aj4ocBa-qEpY"
      },
      "source": [
        "# **Flatten the image**"
      ]
    },
    {
      "cell_type": "code",
      "metadata": {
        "colab": {
          "base_uri": "https://localhost:8080/"
        },
        "id": "w-lU_KWyqDRG",
        "outputId": "5db681e9-7688-41de-9aa3-a17407efcd1d"
      },
      "source": [
        "#Create the model\r\n",
        "model = models.Sequential() #on a la base du model\r\n",
        "model.add(layers.Flatten(input_shape=[28,28])) #on aplatit l'image pour avoir un vecteur de 784 valeurs\r\n",
        "\r\n",
        "print(\"Shape of the image\", images[0:1].shape) #on a une image de 28x28\r\n",
        "model_output = model.predict(images[0:1]) #on transforme l'image en vecteur de 784 valeurs\r\n",
        "print(\"Shape of the image after the Flatten\", model_output.shape) #on a bien 784 valeurs en sortie"
      ],
      "execution_count": 8,
      "outputs": [
        {
          "output_type": "stream",
          "text": [
            "Shape of the image (1, 28, 28)\n",
            "Shape of the image after the Flatten (1, 784)\n"
          ],
          "name": "stdout"
        }
      ]
    },
    {
      "cell_type": "markdown",
      "metadata": {
        "id": "iy_Ed3x253DK"
      },
      "source": [
        "# **Add the layers**"
      ]
    },
    {
      "cell_type": "code",
      "metadata": {
        "colab": {
          "base_uri": "https://localhost:8080/"
        },
        "id": "COSna5ik4RLp",
        "outputId": "3e4ddb9b-5e62-4a72-dc58-4d600c488d08"
      },
      "source": [
        "#Flatten\r\n",
        "model = models.Sequential() #on a la base du model\r\n",
        "model.add(layers.Flatten(input_shape=[28,28])) #on aplatit l'image pour avoir un vecteur de 784 valeurs\r\n",
        "\r\n",
        "#Add the layer\r\n",
        "model.add(layers.Dense(256, activation=\"relu\")) #définit un layer à 256 neurone\r\n",
        "model.add(layers.Dense(128, activation=\"relu\")) #définit un layer à 128 neurone\r\n",
        "model.add(layers.Dense(10, activation=\"softmax\")) #définit un layer à 10 neurone\r\n",
        "\r\n",
        "model_output = model.predict(images[0:1])\r\n",
        "print(model_output,targets[0:1])"
      ],
      "execution_count": 20,
      "outputs": [
        {
          "output_type": "stream",
          "text": [
            "[[0. 0. 0. 0. 0. 0. 0. 0. 0. 1.]] [9]\n"
          ],
          "name": "stdout"
        }
      ]
    },
    {
      "cell_type": "markdown",
      "metadata": {
        "id": "eukR8kTr_669"
      },
      "source": [
        "On remarque la valeur attendue est 1 pour la classe 9, mais ce n'est pas le cas ici"
      ]
    },
    {
      "cell_type": "markdown",
      "metadata": {
        "id": "Iu12AAa7AE6y"
      },
      "source": [
        "# **Model Summary**"
      ]
    },
    {
      "cell_type": "code",
      "metadata": {
        "colab": {
          "base_uri": "https://localhost:8080/"
        },
        "id": "81Xw7qFU85Lm",
        "outputId": "039f5fcc-1726-495d-be5a-3b0ea7ea283f"
      },
      "source": [
        "model.summary()"
      ],
      "execution_count": 10,
      "outputs": [
        {
          "output_type": "stream",
          "text": [
            "Model: \"sequential_1\"\n",
            "_________________________________________________________________\n",
            "Layer (type)                 Output Shape              Param #   \n",
            "=================================================================\n",
            "flatten_1 (Flatten)          (None, 784)               0         \n",
            "_________________________________________________________________\n",
            "dense (Dense)                (None, 256)               200960    \n",
            "_________________________________________________________________\n",
            "dense_1 (Dense)              (None, 128)               32896     \n",
            "_________________________________________________________________\n",
            "dense_2 (Dense)              (None, 10)                1290      \n",
            "=================================================================\n",
            "Total params: 235,146\n",
            "Trainable params: 235,146\n",
            "Non-trainable params: 0\n",
            "_________________________________________________________________\n"
          ],
          "name": "stdout"
        }
      ]
    },
    {
      "cell_type": "markdown",
      "metadata": {
        "id": "ksyIMz-6Ar4C"
      },
      "source": [
        "# **Compile the model**"
      ]
    },
    {
      "cell_type": "code",
      "metadata": {
        "id": "Fq0nYeXQAsD0"
      },
      "source": [
        "# Compile the model\r\n",
        "model.compile(\r\n",
        "    loss=\"sparse_categorical_crossentropy\", #fonction d'erreur\r\n",
        "    optimizer=\"sgd\", #permet d'optimiser l'erreur (descente de gradient)\r\n",
        "    metrics=[\"accuracy\"] #pourcentage de bonne prédiction\r\n",
        ")"
      ],
      "execution_count": 21,
      "outputs": []
    },
    {
      "cell_type": "markdown",
      "metadata": {
        "id": "retPvicvAlwF"
      },
      "source": [
        "# **Train the model**"
      ]
    },
    {
      "cell_type": "code",
      "metadata": {
        "colab": {
          "base_uri": "https://localhost:8080/"
        },
        "id": "hdbkc8p-AmGA",
        "outputId": "9fb91d43-32b7-415b-cae8-45dec4375d9b"
      },
      "source": [
        "history = model.fit(images,targets,epochs=10)"
      ],
      "execution_count": 22,
      "outputs": [
        {
          "output_type": "stream",
          "text": [
            "Epoch 1/10\n",
            "313/313 [==============================] - 1s 2ms/step - loss: 571473897729263680.0000 - accuracy: 0.0963\n",
            "Epoch 2/10\n",
            "313/313 [==============================] - 1s 2ms/step - loss: 2.3029 - accuracy: 0.1004\n",
            "Epoch 3/10\n",
            "313/313 [==============================] - 1s 2ms/step - loss: 2.3028 - accuracy: 0.0947\n",
            "Epoch 4/10\n",
            "313/313 [==============================] - 1s 2ms/step - loss: 2.3025 - accuracy: 0.1036\n",
            "Epoch 5/10\n",
            "313/313 [==============================] - 1s 2ms/step - loss: 2.3024 - accuracy: 0.1014\n",
            "Epoch 6/10\n",
            "313/313 [==============================] - 1s 2ms/step - loss: 2.3024 - accuracy: 0.1057\n",
            "Epoch 7/10\n",
            "313/313 [==============================] - 1s 2ms/step - loss: 2.3023 - accuracy: 0.0999\n",
            "Epoch 8/10\n",
            "313/313 [==============================] - 1s 2ms/step - loss: 2.3023 - accuracy: 0.1048\n",
            "Epoch 9/10\n",
            "313/313 [==============================] - 1s 2ms/step - loss: 2.3023 - accuracy: 0.1025\n",
            "Epoch 10/10\n",
            "313/313 [==============================] - 1s 2ms/step - loss: 2.3025 - accuracy: 0.1013\n"
          ],
          "name": "stdout"
        }
      ]
    },
    {
      "cell_type": "code",
      "metadata": {
        "colab": {
          "base_uri": "https://localhost:8080/",
          "height": 545
        },
        "id": "bl3heaYtEjux",
        "outputId": "4445b434-9424-4681-9c4e-635ff5d0898f"
      },
      "source": [
        "loss_curve = history.history[\"loss\"]\r\n",
        "acc_curve = history.history[\"accuracy\"]\r\n",
        "\r\n",
        "plt.plot(loss_curve)\r\n",
        "plt.title(\"loss\")\r\n",
        "plt.show()\r\n",
        "\r\n",
        "plt.plot(acc_curve)\r\n",
        "plt.title(\"Accuracy\")\r\n",
        "plt.show()"
      ],
      "execution_count": 23,
      "outputs": [
        {
          "output_type": "display_data",
          "data": {
            "image/png": "[encoded data removed]",
            "text/plain": [
              "<Figure size 432x288 with 1 Axes>"
            ]
          },
          "metadata": {
            "tags": [],
            "needs_background": "light"
          }
        },
        {
          "output_type": "display_data",
          "data": {
            "image/png": "[encoded data removed]",
            "text/plain": [
              "<Figure size 432x288 with 1 Axes>"
            ]
          },
          "metadata": {
            "tags": [],
            "needs_background": "light"
          }
        }
      ]
    }
  ]
}